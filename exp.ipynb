{
 "cells": [
  {
   "cell_type": "code",
   "execution_count": 1,
   "id": "2cd78554-1e12-4863-aec2-db27d52cbd95",
   "metadata": {},
   "outputs": [
    {
     "name": "stderr",
     "output_type": "stream",
     "text": [
      "The Vagrant executable cannot be found. Please check if it is in the system path.\n"
     ]
    },
    {
     "name": "stdout",
     "output_type": "stream",
     "text": [
      "Note: Openstack clients not installed\n"
     ]
    },
    {
     "data": {
      "text/html": [
       "\n",
       "        <style> .enoslib {\n",
       "    width: auto;\n",
       "}\n",
       "\n",
       ".enoslib_object {\n",
       "    width: auto;\n",
       "    font-size: 1em;\n",
       "    line-height: 1.5;\n",
       "    background-color: rgb(250, 249, 249);\n",
       "    font-family: 'Segoe UI';\n",
       "    color: black;\n",
       "}\n",
       "\n",
       ".enoslib_object ul {\n",
       "    padding: 0;\n",
       "}\n",
       "\n",
       ".enoslib_object input+label {\n",
       "    margin-bottom: 0%;\n",
       "}\n",
       "\n",
       ".object_name {\n",
       "    padding: 6px 0 6px 3px;\n",
       "    border-bottom-width: 1px;\n",
       "    border-bottom-style: solid;\n",
       "    border-bottom-color: #777;\n",
       "    color: #555;\n",
       "}\n",
       "\n",
       ".object_name>div,\n",
       ".object_name>ul {\n",
       "    display: inline;\n",
       "    margin-top: 0;\n",
       "    margin-bottom: 0;\n",
       "}\n",
       "\n",
       "ul.enoslist {\n",
       "    list-style: none !important;\n",
       "    padding: 3px !important;\n",
       "    margin: 0 !important;\n",
       "}\n",
       "\n",
       "input.att+label {\n",
       "    display: inline-block;\n",
       "    /*width: 140px;*/\n",
       "    color: rgb(36, 35, 35);\n",
       "    font-weight: 500;\n",
       "    padding: 4px 0 2px 0;\n",
       "}\n",
       "\n",
       "input.att:enabled+label {\n",
       "    cursor: pointer;\n",
       "    width: auto;\n",
       "}\n",
       "\n",
       "input.att {\n",
       "    display: none;\n",
       "}\n",
       "\n",
       "input.att+label:before {\n",
       "    display: inline-block;\n",
       "    content: '►';\n",
       "    font-size: 11px;\n",
       "    width: 15px;\n",
       "    text-align: center;\n",
       "}\n",
       "\n",
       "input.att:checked+label:before {\n",
       "    content: '▼';\n",
       "}\n",
       "\n",
       "input.att:disabled+label:before {\n",
       "    content: none;\n",
       "}\n",
       "\n",
       "input.att+label>span {\n",
       "    display: inline-block;\n",
       "    margin-left: 4px;\n",
       "}\n",
       "\n",
       "input.att+label>span.len {\n",
       "    font-size: small;\n",
       "}\n",
       "\n",
       "input.att:checked+label>span.len {\n",
       "    display: none;\n",
       "}\n",
       "\n",
       "label+span {\n",
       "    color: rgb(70, 69, 69);\n",
       "}\n",
       "\n",
       "input.att~ul {\n",
       "    display: none;\n",
       "}\n",
       "\n",
       "input.att:checked~ul {\n",
       "    display: block;\n",
       "}\n",
       "\n",
       "table {\n",
       "    width: auto;\n",
       "    border-collapse: collapse;\n",
       "    margin: 2%;\n",
       "}\n",
       "\n",
       "td,\n",
       "th {\n",
       "    padding: 8px;\n",
       "    height: 15px;\n",
       "    font-size: small;\n",
       "}\n",
       "\n",
       "td {\n",
       "    text-align: left !important;\n",
       "    color: rgb(160, 160, 160)\n",
       "}\n",
       "\n",
       "th {\n",
       "    text-align: center;\n",
       "    color: black;\n",
       "}\n",
       "\n",
       "input~ul {\n",
       "    position: relative;\n",
       "    left: 25px;\n",
       "}\n",
       "\n",
       "input.att~table {\n",
       "    display: none;\n",
       "}\n",
       "\n",
       "input.att:checked~table {\n",
       "    display: block;\n",
       "} </style>\n",
       "        <div class=\"enoslib\">\n",
       "        <div class=\"enoslib_object\">\n",
       "            <div class=\"object_name\">\n",
       "                &lt;class &#x27;enoslib.infra.enos_g5k.configuration.Configuration&#x27;&gt;@0x7f46df3f0790\n",
       "            </div>\n",
       "            <ul class=\"enoslist\">\n",
       "                \n",
       "        <li>\n",
       "        <input type=\"checkbox\" id=\"dhcp-c824d5bb-0e3a-4d60-bfbc-f6b8d76f4419\" class=\"att\" disabled=\"\">\n",
       "        <label for=\"dhcp-c824d5bb-0e3a-4d60-bfbc-f6b8d76f4419\">\n",
       "            <span>dhcp:&nbsp;</span>\n",
       "        </label>\n",
       "        <span>True</span>\n",
       "        </li>\n",
       "        <li>\n",
       "        <input type=\"checkbox\" id=\"force_deploy-775523b8-d7d3-4f76-bd60-6382739a2790\" class=\"att\" disabled=\"\">\n",
       "        <label for=\"force_deploy-775523b8-d7d3-4f76-bd60-6382739a2790\">\n",
       "            <span>force_deploy:&nbsp;</span>\n",
       "        </label>\n",
       "        <span>False</span>\n",
       "        </li>\n",
       "        <li>\n",
       "        <input type=\"checkbox\" id=\"env_name-ee2fd263-7b1d-4fd6-b0d2-0d0eba71b123\" class=\"att\" disabled=\"\">\n",
       "        <label for=\"env_name-ee2fd263-7b1d-4fd6-b0d2-0d0eba71b123\">\n",
       "            <span>env_name:&nbsp;</span>\n",
       "        </label>\n",
       "        <span>debian11-x64-nfs</span>\n",
       "        </li>\n",
       "        <li>\n",
       "        <input type=\"checkbox\" id=\"job_name-f67bd747-f093-486c-817d-ff06fd9890e6\" class=\"att\" disabled=\"\">\n",
       "        <label for=\"job_name-f67bd747-f093-486c-817d-ff06fd9890e6\">\n",
       "            <span>job_name:&nbsp;</span>\n",
       "        </label>\n",
       "        <span>rsd-01</span>\n",
       "        </li>\n",
       "        <li>\n",
       "        <input type=\"checkbox\" id=\"job_type-2345fdb0-5263-4933-9a45-98107c1ab22a\" class=\"att\" disabled=\"\">\n",
       "        <label for=\"job_type-2345fdb0-5263-4933-9a45-98107c1ab22a\">\n",
       "            <span>job_type:&nbsp;</span>\n",
       "        </label>\n",
       "        <span>allow_classic_ssh</span>\n",
       "        </li>\n",
       "        <li>\n",
       "        <input type=\"checkbox\" id=\"key-de9efc53-2ec1-471f-9e03-1e149e15c4af\" class=\"att\" disabled=\"\">\n",
       "        <label for=\"key-de9efc53-2ec1-471f-9e03-1e149e15c4af\">\n",
       "            <span>key:&nbsp;</span>\n",
       "        </label>\n",
       "        <span>/home/g/.ssh/id_rsa.pub</span>\n",
       "        </li>\n",
       "        <li>\n",
       "        <input type=\"checkbox\" id=\"queue-d3c92484-e09b-4102-a116-aeed817207ef\" class=\"att\" disabled=\"\">\n",
       "        <label for=\"queue-d3c92484-e09b-4102-a116-aeed817207ef\">\n",
       "            <span>queue:&nbsp;</span>\n",
       "        </label>\n",
       "        <span>default</span>\n",
       "        </li>\n",
       "        <li>\n",
       "        <input type=\"checkbox\" id=\"walltime-84643511-e072-4669-976e-b53b95b93445\" class=\"att\" disabled=\"\">\n",
       "        <label for=\"walltime-84643511-e072-4669-976e-b53b95b93445\">\n",
       "            <span>walltime:&nbsp;</span>\n",
       "        </label>\n",
       "        <span>02:00:00</span>\n",
       "        </li>\n",
       "                <li>\n",
       "                    <input type=\"checkbox\" id=\"resources-40307a70-49cd-4f72-b9e9-49aba947b177\" class=\"att\">\n",
       "                    <label for=\"resources-40307a70-49cd-4f72-b9e9-49aba947b177\">resources <span class=\"len\">(2)</span></label>\n",
       "                    <ul id=\"resources\" class=\"enoslist\">\n",
       "                        \n",
       "                <li>\n",
       "                    <input type=\"checkbox\" id=\"machines-7ea6ef19-2912-4ed8-88f4-a8394db06652\" class=\"att\">\n",
       "                    <label for=\"machines-7ea6ef19-2912-4ed8-88f4-a8394db06652\">machines <span class=\"len\">(2)</span></label>\n",
       "                    <ul id=\"machines\" class=\"enoslist\">\n",
       "                        <table><thead><tr><th>roles</th><th>primary_network</th><th>secondary_networks</th><th>cluster</th><th>nodes</th></tr></thead><tbody><tr><td><ul class=\"list\"><li>control</li></ul></td><td>753092c4-ff36-49b4-b72f-6acb52f1184c</td><td></td><td>taurus</td><td>1</td></tr><tr><td><ul class=\"list\"><li>worker</li></ul></td><td>753092c4-ff36-49b4-b72f-6acb52f1184c</td><td></td><td>taurus</td><td>1</td></tr></tbody></table>\n",
       "                    </ul>\n",
       "                </li>\n",
       "                \n",
       "                <li>\n",
       "                    <input type=\"checkbox\" id=\"networks-d7fa7043-e2fa-4753-ac41-b3ce41383202\" class=\"att\">\n",
       "                    <label for=\"networks-d7fa7043-e2fa-4753-ac41-b3ce41383202\">networks <span class=\"len\">(1)</span></label>\n",
       "                    <ul id=\"networks\" class=\"enoslist\">\n",
       "                        <table><thead><tr><th>id</th><th>type</th><th>roles</th><th>site</th></tr></thead><tbody><tr><td>753092c4-ff36-49b4-b72f-6acb52f1184c</td><td>prod</td><td><ul class=\"list\"><li>my_network</li></ul></td><td>lyon</td></tr></tbody></table>\n",
       "                    </ul>\n",
       "                </li>\n",
       "                \n",
       "                    </ul>\n",
       "                </li>\n",
       "                \n",
       "            </ul>\n",
       "                </div>\n",
       "        </div>\n",
       "    "
      ],
      "text/plain": [
       "Conf@0x7f46df3f0790\n",
       "{\n",
       "    \"dhcp\": true,\n",
       "    \"force_deploy\": false,\n",
       "    \"env_name\": \"debian11-x64-nfs\",\n",
       "    \"job_name\": \"rsd-01\",\n",
       "    \"job_type\": \"allow_classic_ssh\",\n",
       "    \"key\": \"/home/g/.ssh/id_rsa.pub\",\n",
       "    \"queue\": \"default\",\n",
       "    \"walltime\": \"02:00:00\",\n",
       "    \"resources\": {\n",
       "        \"machines\": [\n",
       "            {\n",
       "                \"roles\": [\n",
       "                    \"control\"\n",
       "                ],\n",
       "                \"primary_network\": \"753092c4-ff36-49b4-b72f-6acb52f1184c\",\n",
       "                \"secondary_networks\": [],\n",
       "                \"cluster\": \"taurus\",\n",
       "                \"nodes\": 1\n",
       "            },\n",
       "            {\n",
       "                \"roles\": [\n",
       "                    \"worker\"\n",
       "                ],\n",
       "                \"primary_network\": \"753092c4-ff36-49b4-b72f-6acb52f1184c\",\n",
       "                \"secondary_networks\": [],\n",
       "                \"cluster\": \"taurus\",\n",
       "                \"nodes\": 1\n",
       "            }\n",
       "        ],\n",
       "        \"networks\": [\n",
       "            {\n",
       "                \"id\": \"753092c4-ff36-49b4-b72f-6acb52f1184c\",\n",
       "                \"type\": \"prod\",\n",
       "                \"roles\": [\n",
       "                    \"my_network\"\n",
       "                ],\n",
       "                \"site\": \"lyon\"\n",
       "            }\n",
       "        ]\n",
       "    }\n",
       "}"
      ]
     },
     "execution_count": 1,
     "metadata": {},
     "output_type": "execute_result"
    }
   ],
   "source": [
    "import enoslib as en\n",
    "from shlex import split\n",
    "\n",
    "site = \"lyon\"\n",
    "# Enable rich logging\n",
    "_ = en.init_logging()\n",
    "network = en.G5kNetworkConf(type=\"prod\", roles=[\"my_network\"], site=site)\n",
    "\n",
    "conf = (\n",
    "    en.G5kConf.from_settings(job_type=\"allow_classic_ssh\", job_name=\"rsd-01\")\n",
    "    .add_network_conf(network)\n",
    "    .add_machine(\n",
    "        roles=[\"control\"],\n",
    "        cluster=\"taurus\",\n",
    "        nodes=1,\n",
    "        primary_network=network,\n",
    "    )\n",
    "    .add_machine(\n",
    "        roles=[\"worker\"],\n",
    "        cluster=\"taurus\",\n",
    "        nodes=1,\n",
    "        primary_network=network,\n",
    "    )\n",
    "    .finalize()\n",
    ")\n",
    "conf"
   ]
  },
  {
   "cell_type": "code",
   "execution_count": 2,
   "id": "79ae625b-5892-4d65-8310-6b6999a0c5a1",
   "metadata": {},
   "outputs": [
    {
     "data": {
      "text/html": [
       "<pre style=\"white-space:pre;overflow-x:auto;line-height:normal;font-family:Menlo,'DejaVu Sans Mono',consolas,'Courier New',monospace\"><span style=\"color: #000080; text-decoration-color: #000080\">INFO    </span> Reloading rsd-<span style=\"color: #008080; text-decoration-color: #008080; font-weight: bold\">01</span> from grenoble                                  <a href=\"file:///workspaces/greenflow/.venv/lib/python3.9/site-packages/enoslib/infra/enos_g5k/g5k_api_utils.py\"><span style=\"color: #7f7f7f; text-decoration-color: #7f7f7f\">g5k_api_utils.py</span></a><span style=\"color: #7f7f7f; text-decoration-color: #7f7f7f\">:</span><a href=\"file:///workspaces/greenflow/.venv/lib/python3.9/site-packages/enoslib/infra/enos_g5k/g5k_api_utils.py#175\"><span style=\"color: #7f7f7f; text-decoration-color: #7f7f7f\">175</span></a>\n",
       "</pre>\n"
      ],
      "text/plain": [
       "\u001b[34mINFO    \u001b[0m Reloading rsd-\u001b[1;36m01\u001b[0m from grenoble                                  \u001b]8;id=673961;file:///workspaces/greenflow/.venv/lib/python3.9/site-packages/enoslib/infra/enos_g5k/g5k_api_utils.py\u001b\\\u001b[2mg5k_api_utils.py\u001b[0m\u001b]8;;\u001b\\\u001b[2m:\u001b[0m\u001b]8;id=873557;file:///workspaces/greenflow/.venv/lib/python3.9/site-packages/enoslib/infra/enos_g5k/g5k_api_utils.py#175\u001b\\\u001b[2m175\u001b[0m\u001b]8;;\u001b\\\n"
      ]
     },
     "metadata": {},
     "output_type": "display_data"
    },
    {
     "data": {
      "text/html": [
       "<pre style=\"white-space:pre;overflow-x:auto;line-height:normal;font-family:Menlo,'DejaVu Sans Mono',consolas,'Courier New',monospace\"><span style=\"color: #000080; text-decoration-color: #000080\">INFO    </span> Reloading rsd-<span style=\"color: #008080; text-decoration-color: #008080; font-weight: bold\">01</span> from lille                                     <a href=\"file:///workspaces/greenflow/.venv/lib/python3.9/site-packages/enoslib/infra/enos_g5k/g5k_api_utils.py\"><span style=\"color: #7f7f7f; text-decoration-color: #7f7f7f\">g5k_api_utils.py</span></a><span style=\"color: #7f7f7f; text-decoration-color: #7f7f7f\">:</span><a href=\"file:///workspaces/greenflow/.venv/lib/python3.9/site-packages/enoslib/infra/enos_g5k/g5k_api_utils.py#175\"><span style=\"color: #7f7f7f; text-decoration-color: #7f7f7f\">175</span></a>\n",
       "</pre>\n"
      ],
      "text/plain": [
       "\u001b[34mINFO    \u001b[0m Reloading rsd-\u001b[1;36m01\u001b[0m from lille                                     \u001b]8;id=659396;file:///workspaces/greenflow/.venv/lib/python3.9/site-packages/enoslib/infra/enos_g5k/g5k_api_utils.py\u001b\\\u001b[2mg5k_api_utils.py\u001b[0m\u001b]8;;\u001b\\\u001b[2m:\u001b[0m\u001b]8;id=944132;file:///workspaces/greenflow/.venv/lib/python3.9/site-packages/enoslib/infra/enos_g5k/g5k_api_utils.py#175\u001b\\\u001b[2m175\u001b[0m\u001b]8;;\u001b\\\n"
      ]
     },
     "metadata": {},
     "output_type": "display_data"
    },
    {
     "data": {
      "text/html": [
       "<pre style=\"white-space:pre;overflow-x:auto;line-height:normal;font-family:Menlo,'DejaVu Sans Mono',consolas,'Courier New',monospace\"><span style=\"color: #000080; text-decoration-color: #000080\">INFO    </span> Reloading rsd-<span style=\"color: #008080; text-decoration-color: #008080; font-weight: bold\">01</span> from luxembourg                                <a href=\"file:///workspaces/greenflow/.venv/lib/python3.9/site-packages/enoslib/infra/enos_g5k/g5k_api_utils.py\"><span style=\"color: #7f7f7f; text-decoration-color: #7f7f7f\">g5k_api_utils.py</span></a><span style=\"color: #7f7f7f; text-decoration-color: #7f7f7f\">:</span><a href=\"file:///workspaces/greenflow/.venv/lib/python3.9/site-packages/enoslib/infra/enos_g5k/g5k_api_utils.py#175\"><span style=\"color: #7f7f7f; text-decoration-color: #7f7f7f\">175</span></a>\n",
       "</pre>\n"
      ],
      "text/plain": [
       "\u001b[34mINFO    \u001b[0m Reloading rsd-\u001b[1;36m01\u001b[0m from luxembourg                                \u001b]8;id=440909;file:///workspaces/greenflow/.venv/lib/python3.9/site-packages/enoslib/infra/enos_g5k/g5k_api_utils.py\u001b\\\u001b[2mg5k_api_utils.py\u001b[0m\u001b]8;;\u001b\\\u001b[2m:\u001b[0m\u001b]8;id=673307;file:///workspaces/greenflow/.venv/lib/python3.9/site-packages/enoslib/infra/enos_g5k/g5k_api_utils.py#175\u001b\\\u001b[2m175\u001b[0m\u001b]8;;\u001b\\\n"
      ]
     },
     "metadata": {},
     "output_type": "display_data"
    },
    {
     "data": {
      "text/html": [
       "<pre style=\"white-space:pre;overflow-x:auto;line-height:normal;font-family:Menlo,'DejaVu Sans Mono',consolas,'Courier New',monospace\"><span style=\"color: #000080; text-decoration-color: #000080\">INFO    </span> Reloading rsd-<span style=\"color: #008080; text-decoration-color: #008080; font-weight: bold\">01</span> from lyon                                      <a href=\"file:///workspaces/greenflow/.venv/lib/python3.9/site-packages/enoslib/infra/enos_g5k/g5k_api_utils.py\"><span style=\"color: #7f7f7f; text-decoration-color: #7f7f7f\">g5k_api_utils.py</span></a><span style=\"color: #7f7f7f; text-decoration-color: #7f7f7f\">:</span><a href=\"file:///workspaces/greenflow/.venv/lib/python3.9/site-packages/enoslib/infra/enos_g5k/g5k_api_utils.py#175\"><span style=\"color: #7f7f7f; text-decoration-color: #7f7f7f\">175</span></a>\n",
       "</pre>\n"
      ],
      "text/plain": [
       "\u001b[34mINFO    \u001b[0m Reloading rsd-\u001b[1;36m01\u001b[0m from lyon                                      \u001b]8;id=976999;file:///workspaces/greenflow/.venv/lib/python3.9/site-packages/enoslib/infra/enos_g5k/g5k_api_utils.py\u001b\\\u001b[2mg5k_api_utils.py\u001b[0m\u001b]8;;\u001b\\\u001b[2m:\u001b[0m\u001b]8;id=805155;file:///workspaces/greenflow/.venv/lib/python3.9/site-packages/enoslib/infra/enos_g5k/g5k_api_utils.py#175\u001b\\\u001b[2m175\u001b[0m\u001b]8;;\u001b\\\n"
      ]
     },
     "metadata": {},
     "output_type": "display_data"
    },
    {
     "data": {
      "text/html": [
       "<pre style=\"white-space:pre;overflow-x:auto;line-height:normal;font-family:Menlo,'DejaVu Sans Mono',consolas,'Courier New',monospace\"><span style=\"color: #000080; text-decoration-color: #000080\">INFO    </span> Reloading <span style=\"color: #008080; text-decoration-color: #008080; font-weight: bold\">1362112</span> from lyon                                     <a href=\"file:///workspaces/greenflow/.venv/lib/python3.9/site-packages/enoslib/infra/enos_g5k/g5k_api_utils.py\"><span style=\"color: #7f7f7f; text-decoration-color: #7f7f7f\">g5k_api_utils.py</span></a><span style=\"color: #7f7f7f; text-decoration-color: #7f7f7f\">:</span><a href=\"file:///workspaces/greenflow/.venv/lib/python3.9/site-packages/enoslib/infra/enos_g5k/g5k_api_utils.py#180\"><span style=\"color: #7f7f7f; text-decoration-color: #7f7f7f\">180</span></a>\n",
       "</pre>\n"
      ],
      "text/plain": [
       "\u001b[34mINFO    \u001b[0m Reloading \u001b[1;36m1362112\u001b[0m from lyon                                     \u001b]8;id=421151;file:///workspaces/greenflow/.venv/lib/python3.9/site-packages/enoslib/infra/enos_g5k/g5k_api_utils.py\u001b\\\u001b[2mg5k_api_utils.py\u001b[0m\u001b]8;;\u001b\\\u001b[2m:\u001b[0m\u001b]8;id=344602;file:///workspaces/greenflow/.venv/lib/python3.9/site-packages/enoslib/infra/enos_g5k/g5k_api_utils.py#180\u001b\\\u001b[2m180\u001b[0m\u001b]8;;\u001b\\\n"
      ]
     },
     "metadata": {},
     "output_type": "display_data"
    },
    {
     "data": {
      "text/html": [
       "<pre style=\"white-space:pre;overflow-x:auto;line-height:normal;font-family:Menlo,'DejaVu Sans Mono',consolas,'Courier New',monospace\"><span style=\"color: #000080; text-decoration-color: #000080\">INFO    </span> Reloading rsd-<span style=\"color: #008080; text-decoration-color: #008080; font-weight: bold\">01</span> from nancy                                     <a href=\"file:///workspaces/greenflow/.venv/lib/python3.9/site-packages/enoslib/infra/enos_g5k/g5k_api_utils.py\"><span style=\"color: #7f7f7f; text-decoration-color: #7f7f7f\">g5k_api_utils.py</span></a><span style=\"color: #7f7f7f; text-decoration-color: #7f7f7f\">:</span><a href=\"file:///workspaces/greenflow/.venv/lib/python3.9/site-packages/enoslib/infra/enos_g5k/g5k_api_utils.py#175\"><span style=\"color: #7f7f7f; text-decoration-color: #7f7f7f\">175</span></a>\n",
       "</pre>\n"
      ],
      "text/plain": [
       "\u001b[34mINFO    \u001b[0m Reloading rsd-\u001b[1;36m01\u001b[0m from nancy                                     \u001b]8;id=360503;file:///workspaces/greenflow/.venv/lib/python3.9/site-packages/enoslib/infra/enos_g5k/g5k_api_utils.py\u001b\\\u001b[2mg5k_api_utils.py\u001b[0m\u001b]8;;\u001b\\\u001b[2m:\u001b[0m\u001b]8;id=277499;file:///workspaces/greenflow/.venv/lib/python3.9/site-packages/enoslib/infra/enos_g5k/g5k_api_utils.py#175\u001b\\\u001b[2m175\u001b[0m\u001b]8;;\u001b\\\n"
      ]
     },
     "metadata": {},
     "output_type": "display_data"
    },
    {
     "data": {
      "text/html": [
       "<pre style=\"white-space:pre;overflow-x:auto;line-height:normal;font-family:Menlo,'DejaVu Sans Mono',consolas,'Courier New',monospace\"><span style=\"color: #000080; text-decoration-color: #000080\">INFO    </span> Reloading rsd-<span style=\"color: #008080; text-decoration-color: #008080; font-weight: bold\">01</span> from nantes                                    <a href=\"file:///workspaces/greenflow/.venv/lib/python3.9/site-packages/enoslib/infra/enos_g5k/g5k_api_utils.py\"><span style=\"color: #7f7f7f; text-decoration-color: #7f7f7f\">g5k_api_utils.py</span></a><span style=\"color: #7f7f7f; text-decoration-color: #7f7f7f\">:</span><a href=\"file:///workspaces/greenflow/.venv/lib/python3.9/site-packages/enoslib/infra/enos_g5k/g5k_api_utils.py#175\"><span style=\"color: #7f7f7f; text-decoration-color: #7f7f7f\">175</span></a>\n",
       "</pre>\n"
      ],
      "text/plain": [
       "\u001b[34mINFO    \u001b[0m Reloading rsd-\u001b[1;36m01\u001b[0m from nantes                                    \u001b]8;id=580857;file:///workspaces/greenflow/.venv/lib/python3.9/site-packages/enoslib/infra/enos_g5k/g5k_api_utils.py\u001b\\\u001b[2mg5k_api_utils.py\u001b[0m\u001b]8;;\u001b\\\u001b[2m:\u001b[0m\u001b]8;id=560432;file:///workspaces/greenflow/.venv/lib/python3.9/site-packages/enoslib/infra/enos_g5k/g5k_api_utils.py#175\u001b\\\u001b[2m175\u001b[0m\u001b]8;;\u001b\\\n"
      ]
     },
     "metadata": {},
     "output_type": "display_data"
    },
    {
     "data": {
      "text/html": [
       "<pre style=\"white-space:pre;overflow-x:auto;line-height:normal;font-family:Menlo,'DejaVu Sans Mono',consolas,'Courier New',monospace\"><span style=\"color: #000080; text-decoration-color: #000080\">INFO    </span> Reloading rsd-<span style=\"color: #008080; text-decoration-color: #008080; font-weight: bold\">01</span> from rennes                                    <a href=\"file:///workspaces/greenflow/.venv/lib/python3.9/site-packages/enoslib/infra/enos_g5k/g5k_api_utils.py\"><span style=\"color: #7f7f7f; text-decoration-color: #7f7f7f\">g5k_api_utils.py</span></a><span style=\"color: #7f7f7f; text-decoration-color: #7f7f7f\">:</span><a href=\"file:///workspaces/greenflow/.venv/lib/python3.9/site-packages/enoslib/infra/enos_g5k/g5k_api_utils.py#175\"><span style=\"color: #7f7f7f; text-decoration-color: #7f7f7f\">175</span></a>\n",
       "</pre>\n"
      ],
      "text/plain": [
       "\u001b[34mINFO    \u001b[0m Reloading rsd-\u001b[1;36m01\u001b[0m from rennes                                    \u001b]8;id=631248;file:///workspaces/greenflow/.venv/lib/python3.9/site-packages/enoslib/infra/enos_g5k/g5k_api_utils.py\u001b\\\u001b[2mg5k_api_utils.py\u001b[0m\u001b]8;;\u001b\\\u001b[2m:\u001b[0m\u001b]8;id=368262;file:///workspaces/greenflow/.venv/lib/python3.9/site-packages/enoslib/infra/enos_g5k/g5k_api_utils.py#175\u001b\\\u001b[2m175\u001b[0m\u001b]8;;\u001b\\\n"
      ]
     },
     "metadata": {},
     "output_type": "display_data"
    },
    {
     "data": {
      "text/html": [
       "<pre style=\"white-space:pre;overflow-x:auto;line-height:normal;font-family:Menlo,'DejaVu Sans Mono',consolas,'Courier New',monospace\"><span style=\"color: #000080; text-decoration-color: #000080\">INFO    </span> Reloading rsd-<span style=\"color: #008080; text-decoration-color: #008080; font-weight: bold\">01</span> from sophia                                    <a href=\"file:///workspaces/greenflow/.venv/lib/python3.9/site-packages/enoslib/infra/enos_g5k/g5k_api_utils.py\"><span style=\"color: #7f7f7f; text-decoration-color: #7f7f7f\">g5k_api_utils.py</span></a><span style=\"color: #7f7f7f; text-decoration-color: #7f7f7f\">:</span><a href=\"file:///workspaces/greenflow/.venv/lib/python3.9/site-packages/enoslib/infra/enos_g5k/g5k_api_utils.py#175\"><span style=\"color: #7f7f7f; text-decoration-color: #7f7f7f\">175</span></a>\n",
       "</pre>\n"
      ],
      "text/plain": [
       "\u001b[34mINFO    \u001b[0m Reloading rsd-\u001b[1;36m01\u001b[0m from sophia                                    \u001b]8;id=924973;file:///workspaces/greenflow/.venv/lib/python3.9/site-packages/enoslib/infra/enos_g5k/g5k_api_utils.py\u001b\\\u001b[2mg5k_api_utils.py\u001b[0m\u001b]8;;\u001b\\\u001b[2m:\u001b[0m\u001b]8;id=165767;file:///workspaces/greenflow/.venv/lib/python3.9/site-packages/enoslib/infra/enos_g5k/g5k_api_utils.py#175\u001b\\\u001b[2m175\u001b[0m\u001b]8;;\u001b\\\n"
      ]
     },
     "metadata": {},
     "output_type": "display_data"
    },
    {
     "data": {
      "text/html": [
       "<pre style=\"white-space:pre;overflow-x:auto;line-height:normal;font-family:Menlo,'DejaVu Sans Mono',consolas,'Courier New',monospace\"><span style=\"color: #000080; text-decoration-color: #000080\">INFO    </span> Waiting for <span style=\"color: #008080; text-decoration-color: #008080; font-weight: bold\">1362112</span> on lyon <span style=\"font-weight: bold\">[</span><span style=\"color: #008080; text-decoration-color: #008080; font-weight: bold\">2022</span>-<span style=\"color: #008080; text-decoration-color: #008080; font-weight: bold\">08</span>-<span style=\"color: #008080; text-decoration-color: #008080; font-weight: bold\">15</span> <span style=\"color: #00ff00; text-decoration-color: #00ff00; font-weight: bold\">22:51:39</span><span style=\"font-weight: bold\">]</span>               <a href=\"file:///workspaces/greenflow/.venv/lib/python3.9/site-packages/enoslib/infra/enos_g5k/g5k_api_utils.py\"><span style=\"color: #7f7f7f; text-decoration-color: #7f7f7f\">g5k_api_utils.py</span></a><span style=\"color: #7f7f7f; text-decoration-color: #7f7f7f\">:</span><a href=\"file:///workspaces/greenflow/.venv/lib/python3.9/site-packages/enoslib/infra/enos_g5k/g5k_api_utils.py#317\"><span style=\"color: #7f7f7f; text-decoration-color: #7f7f7f\">317</span></a>\n",
       "</pre>\n"
      ],
      "text/plain": [
       "\u001b[34mINFO    \u001b[0m Waiting for \u001b[1;36m1362112\u001b[0m on lyon \u001b[1m[\u001b[0m\u001b[1;36m2022\u001b[0m-\u001b[1;36m08\u001b[0m-\u001b[1;36m15\u001b[0m \u001b[1;92m22:51:39\u001b[0m\u001b[1m]\u001b[0m               \u001b]8;id=540547;file:///workspaces/greenflow/.venv/lib/python3.9/site-packages/enoslib/infra/enos_g5k/g5k_api_utils.py\u001b\\\u001b[2mg5k_api_utils.py\u001b[0m\u001b]8;;\u001b\\\u001b[2m:\u001b[0m\u001b]8;id=622485;file:///workspaces/greenflow/.venv/lib/python3.9/site-packages/enoslib/infra/enos_g5k/g5k_api_utils.py#317\u001b\\\u001b[2m317\u001b[0m\u001b]8;;\u001b\\\n"
      ]
     },
     "metadata": {},
     "output_type": "display_data"
    },
    {
     "data": {
      "text/html": [
       "<pre style=\"white-space:pre;overflow-x:auto;line-height:normal;font-family:Menlo,'DejaVu Sans Mono',consolas,'Courier New',monospace\"><span style=\"color: #000080; text-decoration-color: #000080\">INFO    </span> All jobs are Running !                                          <a href=\"file:///workspaces/greenflow/.venv/lib/python3.9/site-packages/enoslib/infra/enos_g5k/g5k_api_utils.py\"><span style=\"color: #7f7f7f; text-decoration-color: #7f7f7f\">g5k_api_utils.py</span></a><span style=\"color: #7f7f7f; text-decoration-color: #7f7f7f\">:</span><a href=\"file:///workspaces/greenflow/.venv/lib/python3.9/site-packages/enoslib/infra/enos_g5k/g5k_api_utils.py#324\"><span style=\"color: #7f7f7f; text-decoration-color: #7f7f7f\">324</span></a>\n",
       "</pre>\n"
      ],
      "text/plain": [
       "\u001b[34mINFO    \u001b[0m All jobs are Running !                                          \u001b]8;id=350591;file:///workspaces/greenflow/.venv/lib/python3.9/site-packages/enoslib/infra/enos_g5k/g5k_api_utils.py\u001b\\\u001b[2mg5k_api_utils.py\u001b[0m\u001b]8;;\u001b\\\u001b[2m:\u001b[0m\u001b]8;id=931218;file:///workspaces/greenflow/.venv/lib/python3.9/site-packages/enoslib/infra/enos_g5k/g5k_api_utils.py#324\u001b\\\u001b[2m324\u001b[0m\u001b]8;;\u001b\\\n"
      ]
     },
     "metadata": {},
     "output_type": "display_data"
    }
   ],
   "source": [
    "provider = en.G5k(conf)\n",
    "roles, networks = provider.init()"
   ]
  },
  {
   "cell_type": "code",
   "execution_count": null,
   "id": "79ae625b-5892-4d65-8310-6b6999a0c5a1",
   "metadata": {},
   "outputs": [
    {
     "ename": "",
     "evalue": "",
     "output_type": "error",
     "traceback": [
      "The Kernel crashed while executing code in the the current cell or a previous cell. Please review the code in the cell(s) to identify a possible cause of the failure. Click <a href='https://aka.ms/vscodeJupyterKernelCrash'>here</a> for more info. View Jupyter <a href='command:jupyter.viewOutput'>log</a> for further details."
     ]
    },
    {
     "ename": "",
     "evalue": "",
     "output_type": "error",
     "traceback": [
      "\u001b[1;31mFailed to restart the Kernel. \n",
      "\u001b[1;31mCannot execute code, session has been disposed. \n",
      "View Jupyter <a href='command:jupyter.viewOutput'>log</a> for further details."
     ]
    }
   ],
   "source": [
    "jobs = provider.driver.get_jobs()\n",
    "job_id = jobs[0].uid\n",
    "job_site = jobs[0].site\n",
    "\n",
    "import requests\n",
    "uri = 'https://api.grid5000.fr/3.0/sites/lyon/storage/home/***REMOVED***/access'\n",
    "\n",
    "requests.post(uri, json={\n",
    "    \"termination\": {\n",
    "        \"job\": job_id, \"site\": job_site\n",
    "    }}, auth=('***REMOVED***', \"***REMOVED***\"))"
   ]
  },
  {
   "cell_type": "code",
   "execution_count": 4,
   "id": "89a71190",
   "metadata": {},
   "outputs": [
    {
     "name": "stderr",
     "output_type": "stream",
     "text": [
      "[WARNING]: No inventory was parsed, only implicit localhost is available\n"
     ]
    },
    {
     "data": {
      "application/vnd.jupyter.widget-view+json": {
       "model_id": "0d2201c03ead4748be84718d111a9dab",
       "version_major": 2,
       "version_minor": 0
      },
      "text/plain": [
       "Output()"
      ]
     },
     "metadata": {},
     "output_type": "display_data"
    },
    {
     "data": {
      "text/html": [
       "<pre style=\"white-space:pre;overflow-x:auto;line-height:normal;font-family:Menlo,'DejaVu Sans Mono',consolas,'Courier New',monospace\"></pre>\n"
      ],
      "text/plain": []
     },
     "metadata": {},
     "output_type": "display_data"
    },
    {
     "data": {
      "text/html": [
       "<pre style=\"white-space:pre;overflow-x:auto;line-height:normal;font-family:Menlo,'DejaVu Sans Mono',consolas,'Courier New',monospace\"><span style=\"color: #000080; text-decoration-color: #000080; font-weight: bold\">Finished </span><span style=\"color: #000080; text-decoration-color: #000080; font-weight: bold\">1</span><span style=\"color: #000080; text-decoration-color: #000080; font-weight: bold\"> tasks</span> <span style=\"font-weight: bold; font-style: italic\">(</span><span style=\"font-style: italic\">Update Ansible inventory file</span><span style=\"font-weight: bold; font-style: italic\">)</span>\n",
       "</pre>\n"
      ],
      "text/plain": [
       "\u001b[1;34mFinished \u001b[0m\u001b[1;34m1\u001b[0m\u001b[1;34m tasks\u001b[0m \u001b[1;3m(\u001b[0m\u001b[3mUpdate Ansible inventory file\u001b[0m\u001b[1;3m)\u001b[0m\n"
      ]
     },
     "metadata": {},
     "output_type": "display_data"
    },
    {
     "data": {
      "text/html": [
       "<pre style=\"white-space:pre;overflow-x:auto;line-height:normal;font-family:Menlo,'DejaVu Sans Mono',consolas,'Courier New',monospace\"><span style=\"color: #00ff00; text-decoration-color: #00ff00\">─────────────────────────────────────────────────────────────────────────────────────────────</span>\n",
       "</pre>\n"
      ],
      "text/plain": [
       "\u001b[92m─────────────────────────────────────────────────────────────────────────────────────────────\u001b[0m\n"
      ]
     },
     "metadata": {},
     "output_type": "display_data"
    },
    {
     "data": {
      "text/html": [
       "\n",
       "        <style> .enoslib {\n",
       "    width: auto;\n",
       "}\n",
       "\n",
       ".enoslib_object {\n",
       "    width: auto;\n",
       "    font-size: 1em;\n",
       "    line-height: 1.5;\n",
       "    background-color: rgb(250, 249, 249);\n",
       "    font-family: 'Segoe UI';\n",
       "    color: black;\n",
       "}\n",
       "\n",
       ".enoslib_object ul {\n",
       "    padding: 0;\n",
       "}\n",
       "\n",
       ".enoslib_object input+label {\n",
       "    margin-bottom: 0%;\n",
       "}\n",
       "\n",
       ".object_name {\n",
       "    padding: 6px 0 6px 3px;\n",
       "    border-bottom-width: 1px;\n",
       "    border-bottom-style: solid;\n",
       "    border-bottom-color: #777;\n",
       "    color: #555;\n",
       "}\n",
       "\n",
       ".object_name>div,\n",
       ".object_name>ul {\n",
       "    display: inline;\n",
       "    margin-top: 0;\n",
       "    margin-bottom: 0;\n",
       "}\n",
       "\n",
       "ul.enoslist {\n",
       "    list-style: none !important;\n",
       "    padding: 3px !important;\n",
       "    margin: 0 !important;\n",
       "}\n",
       "\n",
       "input.att+label {\n",
       "    display: inline-block;\n",
       "    /*width: 140px;*/\n",
       "    color: rgb(36, 35, 35);\n",
       "    font-weight: 500;\n",
       "    padding: 4px 0 2px 0;\n",
       "}\n",
       "\n",
       "input.att:enabled+label {\n",
       "    cursor: pointer;\n",
       "    width: auto;\n",
       "}\n",
       "\n",
       "input.att {\n",
       "    display: none;\n",
       "}\n",
       "\n",
       "input.att+label:before {\n",
       "    display: inline-block;\n",
       "    content: '►';\n",
       "    font-size: 11px;\n",
       "    width: 15px;\n",
       "    text-align: center;\n",
       "}\n",
       "\n",
       "input.att:checked+label:before {\n",
       "    content: '▼';\n",
       "}\n",
       "\n",
       "input.att:disabled+label:before {\n",
       "    content: none;\n",
       "}\n",
       "\n",
       "input.att+label>span {\n",
       "    display: inline-block;\n",
       "    margin-left: 4px;\n",
       "}\n",
       "\n",
       "input.att+label>span.len {\n",
       "    font-size: small;\n",
       "}\n",
       "\n",
       "input.att:checked+label>span.len {\n",
       "    display: none;\n",
       "}\n",
       "\n",
       "label+span {\n",
       "    color: rgb(70, 69, 69);\n",
       "}\n",
       "\n",
       "input.att~ul {\n",
       "    display: none;\n",
       "}\n",
       "\n",
       "input.att:checked~ul {\n",
       "    display: block;\n",
       "}\n",
       "\n",
       "table {\n",
       "    width: auto;\n",
       "    border-collapse: collapse;\n",
       "    margin: 2%;\n",
       "}\n",
       "\n",
       "td,\n",
       "th {\n",
       "    padding: 8px;\n",
       "    height: 15px;\n",
       "    font-size: small;\n",
       "}\n",
       "\n",
       "td {\n",
       "    text-align: left !important;\n",
       "    color: rgb(160, 160, 160)\n",
       "}\n",
       "\n",
       "th {\n",
       "    text-align: center;\n",
       "    color: black;\n",
       "}\n",
       "\n",
       "input~ul {\n",
       "    position: relative;\n",
       "    left: 25px;\n",
       "}\n",
       "\n",
       "input.att~table {\n",
       "    display: none;\n",
       "}\n",
       "\n",
       "input.att:checked~table {\n",
       "    display: block;\n",
       "} </style>\n",
       "        <div class=\"enoslib\">\n",
       "        <div class=\"enoslib_object\">\n",
       "            <div class=\"object_name\">\n",
       "                &lt;class &#x27;enoslib.api.Results&#x27;&gt;\n",
       "            </div>\n",
       "            <ul class=\"enoslist\">\n",
       "                <table><thead><tr><th>host</th><th>task</th><th>status</th><th>payload</th></tr></thead><tbody><tr><td>taurus-13.lyon.grid5000.fr</td><td>Update Ansible inventory file</td><td>OK</td><td>[640 bytes]</td></tr><tr><td>taurus-15.lyon.grid5000.fr</td><td>Update Ansible inventory file</td><td>OK</td><td>[640 bytes]</td></tr></tbody></table>\n",
       "            </ul>\n",
       "                </div>\n",
       "        </div>\n",
       "    "
      ],
      "text/plain": [
       "CustomCommandResult(host='taurus-13.lyon.grid5000.fr', task='Update Ansible inventory file', status='OK', payload={'diff': {'before': {'path': 'inventory/g5k.ini'}, 'after': {'path': 'inventory/g5k.ini'}}, 'path': 'inventory/g5k.ini', 'changed': False, 'uid': 0, 'gid': 0, 'owner': 'root', 'group': 'root', 'mode': '0644', 'state': 'file', 'size': 149, 'invocation': {'module_args': {'mode': None, 'dest': 'inventory/g5k.ini', '_original_basename': 'ansible-hosts.j2', 'recurse': False, 'state': 'file', 'path': 'inventory/g5k.ini', 'force': False, 'follow': True, 'modification_time_format': '%Y%m%d%H%M.%S', 'access_time_format': '%Y%m%d%H%M.%S', 'unsafe_writes': False, '_diff_peek': None, 'src': None, 'modification_time': None, 'access_time': None, 'owner': None, 'group': None, 'seuser': None, 'serole': None, 'selevel': None, 'setype': None, 'attributes': None}}, 'checksum': '9865e88750a5c2df6eaac327e1011e7032532393', 'dest': 'inventory/g5k.ini', '_ansible_no_log': False, '_ansible_delegated_vars': {'ansible_host': 'localhost', 'ansible_port': None, 'ansible_user': None, 'ansible_connection': 'local'}})\n",
       "CustomCommandResult(host='taurus-15.lyon.grid5000.fr', task='Update Ansible inventory file', status='OK', payload={'diff': {'before': {'path': 'inventory/g5k.ini'}, 'after': {'path': 'inventory/g5k.ini'}}, 'path': 'inventory/g5k.ini', 'changed': False, 'uid': 0, 'gid': 0, 'owner': 'root', 'group': 'root', 'mode': '0644', 'state': 'file', 'size': 149, 'invocation': {'module_args': {'mode': None, 'dest': 'inventory/g5k.ini', '_original_basename': 'ansible-hosts.j2', 'recurse': False, 'state': 'file', 'path': 'inventory/g5k.ini', 'force': False, 'follow': True, 'modification_time_format': '%Y%m%d%H%M.%S', 'access_time_format': '%Y%m%d%H%M.%S', 'unsafe_writes': False, '_diff_peek': None, 'src': None, 'modification_time': None, 'access_time': None, 'owner': None, 'group': None, 'seuser': None, 'serole': None, 'selevel': None, 'setype': None, 'attributes': None}}, 'checksum': '9865e88750a5c2df6eaac327e1011e7032532393', 'dest': 'inventory/g5k.ini', '_ansible_no_log': False, '_ansible_delegated_vars': {'ansible_host': 'localhost', 'ansible_port': None, 'ansible_user': None, 'ansible_connection': 'local'}})"
      ]
     },
     "execution_count": 4,
     "metadata": {},
     "output_type": "execute_result"
    }
   ],
   "source": [
    "en.run_ansible(['gen-inventory.yaml'], roles=roles)"
   ]
  },
  {
   "cell_type": "code",
   "execution_count": 9,
   "id": "89a71190",
   "metadata": {},
   "outputs": [
    {
     "data": {
      "text/html": [
       "<pre style=\"white-space:pre;overflow-x:auto;line-height:normal;font-family:Menlo,'DejaVu Sans Mono',consolas,'Courier New',monospace\"><span style=\"color: #000080; text-decoration-color: #000080\">INFO    </span> <span style=\"font-weight: bold\">&lt;</span><span style=\"color: #ff00ff; text-decoration-color: #ff00ff; font-weight: bold\">Command</span><span style=\"color: #000000; text-decoration-color: #000000\"> </span><span style=\"color: #008000; text-decoration-color: #008000\">'/workspaces/greenflow/.venv/bin/ansible-playbook k3s-setup.yaml </span> <a href=\"file:///workspaces/greenflow/.venv/lib/python3.9/site-packages/sh.py\"><span style=\"color: #7f7f7f; text-decoration-color: #7f7f7f\">sh.py</span></a><span style=\"color: #7f7f7f; text-decoration-color: #7f7f7f\">:</span><a href=\"file:///workspaces/greenflow/.venv/lib/python3.9/site-packages/sh.py#670\"><span style=\"color: #7f7f7f; text-decoration-color: #7f7f7f\">670</span></a>\n",
       "         <span style=\"color: #008000; text-decoration-color: #008000\">-i inventory/g5k.ini'</span><span style=\"color: #000000; text-decoration-color: #000000\">, pid </span><span style=\"color: #008080; text-decoration-color: #008080; font-weight: bold\">35877</span><span style=\"font-weight: bold\">&gt;</span>: process started                         <span style=\"color: #7f7f7f; text-decoration-color: #7f7f7f\">         </span>\n",
       "</pre>\n"
      ],
      "text/plain": [
       "\u001b[34mINFO    \u001b[0m \u001b[1m<\u001b[0m\u001b[1;95mCommand\u001b[0m\u001b[39m \u001b[0m\u001b[32m'/workspaces/greenflow/.venv/bin/ansible-playbook k3s-setup.yaml \u001b[0m \u001b]8;id=963966;file:///workspaces/greenflow/.venv/lib/python3.9/site-packages/sh.py\u001b\\\u001b[2msh.py\u001b[0m\u001b]8;;\u001b\\\u001b[2m:\u001b[0m\u001b]8;id=757567;file:///workspaces/greenflow/.venv/lib/python3.9/site-packages/sh.py#670\u001b\\\u001b[2m670\u001b[0m\u001b]8;;\u001b\\\n",
       "         \u001b[32m-i inventory/g5k.ini'\u001b[0m\u001b[39m, pid \u001b[0m\u001b[1;36m35877\u001b[0m\u001b[1m>\u001b[0m: process started                         \u001b[2m         \u001b[0m\n"
      ]
     },
     "metadata": {},
     "output_type": "display_data"
    }
   ],
   "source": [
    "# en.run_ansible(['k3s-setup.yaml'], roles=roles)\n",
    "from sh import ansible_playbook\n",
    "ansible_playbook(split('k3s-setup.yaml -i inventory/g5k.ini'))\n"
   ]
  },
  {
   "cell_type": "code",
   "execution_count": 11,
   "id": "89a71190",
   "metadata": {},
   "outputs": [
    {
     "ename": "SyntaxError",
     "evalue": "invalid syntax (4251882743.py, line 2)",
     "output_type": "error",
     "traceback": [
      "\u001b[0;36m  Input \u001b[0;32mIn [11]\u001b[0;36m\u001b[0m\n\u001b[0;31m    ansible_playbook(split(('helm-setup.yaml -i inventory/g5k.ini'))\u001b[0m\n\u001b[0m    ^\u001b[0m\n\u001b[0;31mSyntaxError\u001b[0m\u001b[0;31m:\u001b[0m invalid syntax\n"
     ]
    }
   ],
   "source": [
    "ansible_playbook(split(('helm-setup.yaml -i inventory/g5k.ini -t redeploy'))\n",
    "ansible_playbook(split(('helm-setup.yaml -i inventory/g5k.ini'))\n",
    "\n",
    "# en.run_ansible(['helm-setup.yaml'], roles=roles)"
   ]
  },
  {
   "cell_type": "code",
   "execution_count": null,
   "id": "699fbe10",
   "metadata": {},
   "outputs": [],
   "source": [
    "from sh import kubectl\n",
    "try:\n",
    "    p = kubectl('port-forward -n monitoring svc/victoria-metrics-single-server 8428:8428'.split(\" \"), _bg=True)\n",
    "except:\n",
    "    pass"
   ]
  },
  {
   "cell_type": "code",
   "execution_count": 1,
   "id": "1267dfcc",
   "metadata": {},
   "outputs": [
    {
     "name": "stdout",
     "output_type": "stream",
     "text": [
      "['Mon, 15 Aug 2022 22:38:39 +0200', 'Mon, 15 Aug 2022 22:54:42 +0200', 'Mon, 15 Aug 2022 23:18:20 +0200', 'Sun, 14 Aug 2022 15:56:17 +0200', 'Sun, 14 Aug 2022 16:27:09 +0200', 'Sun, 14 Aug 2022 17:56:14 +0200', 'Sun, 14 Aug 2022 18:38:37 +0200', 'Tue, 09 Aug 2022 18:38:09 +0200']\n"
     ]
    },
    {
     "data": {
      "text/html": [
       "<div>\n",
       "<style scoped>\n",
       "    .dataframe tbody tr th:only-of-type {\n",
       "        vertical-align: middle;\n",
       "    }\n",
       "\n",
       "    .dataframe tbody tr th {\n",
       "        vertical-align: top;\n",
       "    }\n",
       "\n",
       "    .dataframe thead th {\n",
       "        text-align: right;\n",
       "    }\n",
       "</style>\n",
       "<table border=\"1\" class=\"dataframe\">\n",
       "  <thead>\n",
       "    <tr style=\"text-align: right;\">\n",
       "      <th></th>\n",
       "      <th>__name__</th>\n",
       "      <th>namespace</th>\n",
       "      <th>service</th>\n",
       "      <th>job</th>\n",
       "      <th>instance</th>\n",
       "      <th>pod</th>\n",
       "      <th>container</th>\n",
       "      <th>deployment_ts</th>\n",
       "      <th>endpoint</th>\n",
       "      <th>prometheus</th>\n",
       "      <th>prometheus_replica</th>\n",
       "      <th>value</th>\n",
       "    </tr>\n",
       "    <tr>\n",
       "      <th>timestamp</th>\n",
       "      <th></th>\n",
       "      <th></th>\n",
       "      <th></th>\n",
       "      <th></th>\n",
       "      <th></th>\n",
       "      <th></th>\n",
       "      <th></th>\n",
       "      <th></th>\n",
       "      <th></th>\n",
       "      <th></th>\n",
       "      <th></th>\n",
       "      <th></th>\n",
       "    </tr>\n",
       "  </thead>\n",
       "  <tbody>\n",
       "    <tr>\n",
       "      <th>2022-08-14 13:59:18.443000064</th>\n",
       "      <td>scaph_host_power_microwatts</td>\n",
       "      <td>monitoring</td>\n",
       "      <td>scaphandre</td>\n",
       "      <td>scaphandre</td>\n",
       "      <td>10.42.1.6:8080</td>\n",
       "      <td>scaphandre-r9mqr</td>\n",
       "      <td>scaphandre</td>\n",
       "      <td>Sun, 14 Aug 2022 15:56:17 +0200</td>\n",
       "      <td>metrics</td>\n",
       "      <td>monitoring/kp-kube-prometheus-stack-prometheus</td>\n",
       "      <td>prometheus-kp-kube-prometheus-stack-prometheus-0</td>\n",
       "      <td>31457897.0</td>\n",
       "    </tr>\n",
       "    <tr>\n",
       "      <th>2022-08-14 13:59:23.443000064</th>\n",
       "      <td>scaph_host_power_microwatts</td>\n",
       "      <td>monitoring</td>\n",
       "      <td>scaphandre</td>\n",
       "      <td>scaphandre</td>\n",
       "      <td>10.42.1.6:8080</td>\n",
       "      <td>scaphandre-r9mqr</td>\n",
       "      <td>scaphandre</td>\n",
       "      <td>Sun, 14 Aug 2022 15:56:17 +0200</td>\n",
       "      <td>metrics</td>\n",
       "      <td>monitoring/kp-kube-prometheus-stack-prometheus</td>\n",
       "      <td>prometheus-kp-kube-prometheus-stack-prometheus-0</td>\n",
       "      <td>19913160.0</td>\n",
       "    </tr>\n",
       "    <tr>\n",
       "      <th>2022-08-14 13:59:28.443000064</th>\n",
       "      <td>scaph_host_power_microwatts</td>\n",
       "      <td>monitoring</td>\n",
       "      <td>scaphandre</td>\n",
       "      <td>scaphandre</td>\n",
       "      <td>10.42.1.6:8080</td>\n",
       "      <td>scaphandre-r9mqr</td>\n",
       "      <td>scaphandre</td>\n",
       "      <td>Sun, 14 Aug 2022 15:56:17 +0200</td>\n",
       "      <td>metrics</td>\n",
       "      <td>monitoring/kp-kube-prometheus-stack-prometheus</td>\n",
       "      <td>prometheus-kp-kube-prometheus-stack-prometheus-0</td>\n",
       "      <td>25486449.0</td>\n",
       "    </tr>\n",
       "    <tr>\n",
       "      <th>2022-08-14 13:59:33.443000064</th>\n",
       "      <td>scaph_host_power_microwatts</td>\n",
       "      <td>monitoring</td>\n",
       "      <td>scaphandre</td>\n",
       "      <td>scaphandre</td>\n",
       "      <td>10.42.1.6:8080</td>\n",
       "      <td>scaphandre-r9mqr</td>\n",
       "      <td>scaphandre</td>\n",
       "      <td>Sun, 14 Aug 2022 15:56:17 +0200</td>\n",
       "      <td>metrics</td>\n",
       "      <td>monitoring/kp-kube-prometheus-stack-prometheus</td>\n",
       "      <td>prometheus-kp-kube-prometheus-stack-prometheus-0</td>\n",
       "      <td>26123209.0</td>\n",
       "    </tr>\n",
       "    <tr>\n",
       "      <th>2022-08-14 13:59:38.443000064</th>\n",
       "      <td>scaph_host_power_microwatts</td>\n",
       "      <td>monitoring</td>\n",
       "      <td>scaphandre</td>\n",
       "      <td>scaphandre</td>\n",
       "      <td>10.42.1.6:8080</td>\n",
       "      <td>scaphandre-r9mqr</td>\n",
       "      <td>scaphandre</td>\n",
       "      <td>Sun, 14 Aug 2022 15:56:17 +0200</td>\n",
       "      <td>metrics</td>\n",
       "      <td>monitoring/kp-kube-prometheus-stack-prometheus</td>\n",
       "      <td>prometheus-kp-kube-prometheus-stack-prometheus-0</td>\n",
       "      <td>25890358.0</td>\n",
       "    </tr>\n",
       "    <tr>\n",
       "      <th>...</th>\n",
       "      <td>...</td>\n",
       "      <td>...</td>\n",
       "      <td>...</td>\n",
       "      <td>...</td>\n",
       "      <td>...</td>\n",
       "      <td>...</td>\n",
       "      <td>...</td>\n",
       "      <td>...</td>\n",
       "      <td>...</td>\n",
       "      <td>...</td>\n",
       "      <td>...</td>\n",
       "      <td>...</td>\n",
       "    </tr>\n",
       "    <tr>\n",
       "      <th>2022-08-14 14:28:17.660000000</th>\n",
       "      <td>scaph_host_power_microwatts</td>\n",
       "      <td>monitoring</td>\n",
       "      <td>scaphandre</td>\n",
       "      <td>scaphandre</td>\n",
       "      <td>10.42.0.9:8080</td>\n",
       "      <td>scaphandre-lg5xk</td>\n",
       "      <td>scaphandre</td>\n",
       "      <td>Sun, 14 Aug 2022 15:56:17 +0200</td>\n",
       "      <td>metrics</td>\n",
       "      <td>monitoring/kp-kube-prometheus-stack-prometheus</td>\n",
       "      <td>prometheus-kp-kube-prometheus-stack-prometheus-0</td>\n",
       "      <td>43483156.0</td>\n",
       "    </tr>\n",
       "    <tr>\n",
       "      <th>2022-08-14 14:28:22.660000000</th>\n",
       "      <td>scaph_host_power_microwatts</td>\n",
       "      <td>monitoring</td>\n",
       "      <td>scaphandre</td>\n",
       "      <td>scaphandre</td>\n",
       "      <td>10.42.0.9:8080</td>\n",
       "      <td>scaphandre-lg5xk</td>\n",
       "      <td>scaphandre</td>\n",
       "      <td>Sun, 14 Aug 2022 15:56:17 +0200</td>\n",
       "      <td>metrics</td>\n",
       "      <td>monitoring/kp-kube-prometheus-stack-prometheus</td>\n",
       "      <td>prometheus-kp-kube-prometheus-stack-prometheus-0</td>\n",
       "      <td>42697774.0</td>\n",
       "    </tr>\n",
       "    <tr>\n",
       "      <th>2022-08-14 14:28:27.660000000</th>\n",
       "      <td>scaph_host_power_microwatts</td>\n",
       "      <td>monitoring</td>\n",
       "      <td>scaphandre</td>\n",
       "      <td>scaphandre</td>\n",
       "      <td>10.42.0.9:8080</td>\n",
       "      <td>scaphandre-lg5xk</td>\n",
       "      <td>scaphandre</td>\n",
       "      <td>Sun, 14 Aug 2022 15:56:17 +0200</td>\n",
       "      <td>metrics</td>\n",
       "      <td>monitoring/kp-kube-prometheus-stack-prometheus</td>\n",
       "      <td>prometheus-kp-kube-prometheus-stack-prometheus-0</td>\n",
       "      <td>51276039.0</td>\n",
       "    </tr>\n",
       "    <tr>\n",
       "      <th>2022-08-14 14:28:32.660000000</th>\n",
       "      <td>scaph_host_power_microwatts</td>\n",
       "      <td>monitoring</td>\n",
       "      <td>scaphandre</td>\n",
       "      <td>scaphandre</td>\n",
       "      <td>10.42.0.9:8080</td>\n",
       "      <td>scaphandre-lg5xk</td>\n",
       "      <td>scaphandre</td>\n",
       "      <td>Sun, 14 Aug 2022 15:56:17 +0200</td>\n",
       "      <td>metrics</td>\n",
       "      <td>monitoring/kp-kube-prometheus-stack-prometheus</td>\n",
       "      <td>prometheus-kp-kube-prometheus-stack-prometheus-0</td>\n",
       "      <td>70355795.0</td>\n",
       "    </tr>\n",
       "    <tr>\n",
       "      <th>2022-08-14 14:28:37.660000000</th>\n",
       "      <td>scaph_host_power_microwatts</td>\n",
       "      <td>monitoring</td>\n",
       "      <td>scaphandre</td>\n",
       "      <td>scaphandre</td>\n",
       "      <td>10.42.0.9:8080</td>\n",
       "      <td>scaphandre-lg5xk</td>\n",
       "      <td>scaphandre</td>\n",
       "      <td>Sun, 14 Aug 2022 15:56:17 +0200</td>\n",
       "      <td>metrics</td>\n",
       "      <td>monitoring/kp-kube-prometheus-stack-prometheus</td>\n",
       "      <td>prometheus-kp-kube-prometheus-stack-prometheus-0</td>\n",
       "      <td>51263368.0</td>\n",
       "    </tr>\n",
       "  </tbody>\n",
       "</table>\n",
       "<p>705 rows × 12 columns</p>\n",
       "</div>"
      ],
      "text/plain": [
       "                                                  __name__   namespace  \\\n",
       "timestamp                                                                \n",
       "2022-08-14 13:59:18.443000064  scaph_host_power_microwatts  monitoring   \n",
       "2022-08-14 13:59:23.443000064  scaph_host_power_microwatts  monitoring   \n",
       "2022-08-14 13:59:28.443000064  scaph_host_power_microwatts  monitoring   \n",
       "2022-08-14 13:59:33.443000064  scaph_host_power_microwatts  monitoring   \n",
       "2022-08-14 13:59:38.443000064  scaph_host_power_microwatts  monitoring   \n",
       "...                                                    ...         ...   \n",
       "2022-08-14 14:28:17.660000000  scaph_host_power_microwatts  monitoring   \n",
       "2022-08-14 14:28:22.660000000  scaph_host_power_microwatts  monitoring   \n",
       "2022-08-14 14:28:27.660000000  scaph_host_power_microwatts  monitoring   \n",
       "2022-08-14 14:28:32.660000000  scaph_host_power_microwatts  monitoring   \n",
       "2022-08-14 14:28:37.660000000  scaph_host_power_microwatts  monitoring   \n",
       "\n",
       "                                  service         job        instance  \\\n",
       "timestamp                                                               \n",
       "2022-08-14 13:59:18.443000064  scaphandre  scaphandre  10.42.1.6:8080   \n",
       "2022-08-14 13:59:23.443000064  scaphandre  scaphandre  10.42.1.6:8080   \n",
       "2022-08-14 13:59:28.443000064  scaphandre  scaphandre  10.42.1.6:8080   \n",
       "2022-08-14 13:59:33.443000064  scaphandre  scaphandre  10.42.1.6:8080   \n",
       "2022-08-14 13:59:38.443000064  scaphandre  scaphandre  10.42.1.6:8080   \n",
       "...                                   ...         ...             ...   \n",
       "2022-08-14 14:28:17.660000000  scaphandre  scaphandre  10.42.0.9:8080   \n",
       "2022-08-14 14:28:22.660000000  scaphandre  scaphandre  10.42.0.9:8080   \n",
       "2022-08-14 14:28:27.660000000  scaphandre  scaphandre  10.42.0.9:8080   \n",
       "2022-08-14 14:28:32.660000000  scaphandre  scaphandre  10.42.0.9:8080   \n",
       "2022-08-14 14:28:37.660000000  scaphandre  scaphandre  10.42.0.9:8080   \n",
       "\n",
       "                                            pod   container  \\\n",
       "timestamp                                                     \n",
       "2022-08-14 13:59:18.443000064  scaphandre-r9mqr  scaphandre   \n",
       "2022-08-14 13:59:23.443000064  scaphandre-r9mqr  scaphandre   \n",
       "2022-08-14 13:59:28.443000064  scaphandre-r9mqr  scaphandre   \n",
       "2022-08-14 13:59:33.443000064  scaphandre-r9mqr  scaphandre   \n",
       "2022-08-14 13:59:38.443000064  scaphandre-r9mqr  scaphandre   \n",
       "...                                         ...         ...   \n",
       "2022-08-14 14:28:17.660000000  scaphandre-lg5xk  scaphandre   \n",
       "2022-08-14 14:28:22.660000000  scaphandre-lg5xk  scaphandre   \n",
       "2022-08-14 14:28:27.660000000  scaphandre-lg5xk  scaphandre   \n",
       "2022-08-14 14:28:32.660000000  scaphandre-lg5xk  scaphandre   \n",
       "2022-08-14 14:28:37.660000000  scaphandre-lg5xk  scaphandre   \n",
       "\n",
       "                                                 deployment_ts endpoint  \\\n",
       "timestamp                                                                 \n",
       "2022-08-14 13:59:18.443000064  Sun, 14 Aug 2022 15:56:17 +0200  metrics   \n",
       "2022-08-14 13:59:23.443000064  Sun, 14 Aug 2022 15:56:17 +0200  metrics   \n",
       "2022-08-14 13:59:28.443000064  Sun, 14 Aug 2022 15:56:17 +0200  metrics   \n",
       "2022-08-14 13:59:33.443000064  Sun, 14 Aug 2022 15:56:17 +0200  metrics   \n",
       "2022-08-14 13:59:38.443000064  Sun, 14 Aug 2022 15:56:17 +0200  metrics   \n",
       "...                                                        ...      ...   \n",
       "2022-08-14 14:28:17.660000000  Sun, 14 Aug 2022 15:56:17 +0200  metrics   \n",
       "2022-08-14 14:28:22.660000000  Sun, 14 Aug 2022 15:56:17 +0200  metrics   \n",
       "2022-08-14 14:28:27.660000000  Sun, 14 Aug 2022 15:56:17 +0200  metrics   \n",
       "2022-08-14 14:28:32.660000000  Sun, 14 Aug 2022 15:56:17 +0200  metrics   \n",
       "2022-08-14 14:28:37.660000000  Sun, 14 Aug 2022 15:56:17 +0200  metrics   \n",
       "\n",
       "                                                                   prometheus  \\\n",
       "timestamp                                                                       \n",
       "2022-08-14 13:59:18.443000064  monitoring/kp-kube-prometheus-stack-prometheus   \n",
       "2022-08-14 13:59:23.443000064  monitoring/kp-kube-prometheus-stack-prometheus   \n",
       "2022-08-14 13:59:28.443000064  monitoring/kp-kube-prometheus-stack-prometheus   \n",
       "2022-08-14 13:59:33.443000064  monitoring/kp-kube-prometheus-stack-prometheus   \n",
       "2022-08-14 13:59:38.443000064  monitoring/kp-kube-prometheus-stack-prometheus   \n",
       "...                                                                       ...   \n",
       "2022-08-14 14:28:17.660000000  monitoring/kp-kube-prometheus-stack-prometheus   \n",
       "2022-08-14 14:28:22.660000000  monitoring/kp-kube-prometheus-stack-prometheus   \n",
       "2022-08-14 14:28:27.660000000  monitoring/kp-kube-prometheus-stack-prometheus   \n",
       "2022-08-14 14:28:32.660000000  monitoring/kp-kube-prometheus-stack-prometheus   \n",
       "2022-08-14 14:28:37.660000000  monitoring/kp-kube-prometheus-stack-prometheus   \n",
       "\n",
       "                                                             prometheus_replica  \\\n",
       "timestamp                                                                         \n",
       "2022-08-14 13:59:18.443000064  prometheus-kp-kube-prometheus-stack-prometheus-0   \n",
       "2022-08-14 13:59:23.443000064  prometheus-kp-kube-prometheus-stack-prometheus-0   \n",
       "2022-08-14 13:59:28.443000064  prometheus-kp-kube-prometheus-stack-prometheus-0   \n",
       "2022-08-14 13:59:33.443000064  prometheus-kp-kube-prometheus-stack-prometheus-0   \n",
       "2022-08-14 13:59:38.443000064  prometheus-kp-kube-prometheus-stack-prometheus-0   \n",
       "...                                                                         ...   \n",
       "2022-08-14 14:28:17.660000000  prometheus-kp-kube-prometheus-stack-prometheus-0   \n",
       "2022-08-14 14:28:22.660000000  prometheus-kp-kube-prometheus-stack-prometheus-0   \n",
       "2022-08-14 14:28:27.660000000  prometheus-kp-kube-prometheus-stack-prometheus-0   \n",
       "2022-08-14 14:28:32.660000000  prometheus-kp-kube-prometheus-stack-prometheus-0   \n",
       "2022-08-14 14:28:37.660000000  prometheus-kp-kube-prometheus-stack-prometheus-0   \n",
       "\n",
       "                                    value  \n",
       "timestamp                                  \n",
       "2022-08-14 13:59:18.443000064  31457897.0  \n",
       "2022-08-14 13:59:23.443000064  19913160.0  \n",
       "2022-08-14 13:59:28.443000064  25486449.0  \n",
       "2022-08-14 13:59:33.443000064  26123209.0  \n",
       "2022-08-14 13:59:38.443000064  25890358.0  \n",
       "...                                   ...  \n",
       "2022-08-14 14:28:17.660000000  43483156.0  \n",
       "2022-08-14 14:28:22.660000000  42697774.0  \n",
       "2022-08-14 14:28:27.660000000  51276039.0  \n",
       "2022-08-14 14:28:32.660000000  70355795.0  \n",
       "2022-08-14 14:28:37.660000000  51263368.0  \n",
       "\n",
       "[705 rows x 12 columns]"
      ]
     },
     "execution_count": 1,
     "metadata": {},
     "output_type": "execute_result"
    }
   ],
   "source": [
    "from prometheus_api_client import PrometheusConnect, MetricRangeDataFrame\n",
    "import pendulum\n",
    "\n",
    "prom = PrometheusConnect(url='http://127.0.0.1:8428')\n",
    "d_ts = prom.get_label_values('deployment_ts')\n",
    "print(d_ts)\n",
    "list(filter(lambda m: m.startswith('scaph'), prom.all_metrics()))\n",
    "MetricRangeDataFrame(prom.get_metric_range_data(metric_name='scaph_host_power_microwatts', label_config={'deployment_ts': d_ts[3]}, start_time=pendulum.now('UTC').subtract(days=2), end_time=pendulum.now()))\n"
   ]
  },
  {
   "cell_type": "code",
   "execution_count": null,
   "id": "895353ad-55c2-4215-a7e8-1f6a7df5c3c9",
   "metadata": {},
   "outputs": [],
   "source": [
    "provider.destroy()"
   ]
  }
 ],
 "metadata": {
  "kernelspec": {
   "display_name": "Python 3.10.6 ('greenflow')",
   "language": "python",
   "name": "python3"
  },
  "language_info": {
   "codemirror_mode": {
    "name": "ipython",
    "version": 3
   },
   "file_extension": ".py",
   "mimetype": "text/x-python",
   "name": "python",
   "nbconvert_exporter": "python",
   "pygments_lexer": "ipython3",
   "version": "3.10.6 | packaged by conda-forge | (main, Aug 22 2022, 20:35:26) [GCC 10.4.0]"
  },
  "vscode": {
   "interpreter": {
    "hash": "48be2398a9efb3a89bd69af0555756c723d45e1487654ed4c3ea4fc173f8f50b"
   }
  }
 },
 "nbformat": 4,
 "nbformat_minor": 5
}
